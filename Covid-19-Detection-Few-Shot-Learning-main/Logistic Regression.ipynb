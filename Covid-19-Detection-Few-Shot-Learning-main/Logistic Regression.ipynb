{
 "cells": [
  {
   "cell_type": "markdown",
   "metadata": {},
   "source": [
    "# COVID-19 Classification using Logistic Regression\n",
    "\n",
    "In this notebook, we have implemented baseline models Logistic Regression Model. Later, we have also taken the layer embeddings to analyse the decision boundaries using clustering approach"
   ]
  },
  {
   "cell_type": "code",
   "execution_count": 1,
   "metadata": {
    "scrolled": true
   },
   "outputs": [
    {
     "name": "stdout",
     "output_type": "stream",
     "text": [
      "Looking in indexes: https://pypi.tuna.tsinghua.edu.cn/simple/\n",
      "Requirement already satisfied: opencv-python in c:\\users\\李鑫\\appdata\\roaming\\python\\python37\\site-packages (4.6.0.66)\n",
      "Requirement already satisfied: numpy>=1.14.5; python_version >= \"3.7\" in d:\\anaconda\\lib\\site-packages (from opencv-python) (1.21.2)\n"
     ]
    }
   ],
   "source": [
    "! pip install opencv-python"
   ]
  },
  {
   "cell_type": "code",
   "execution_count": 2,
   "metadata": {},
   "outputs": [],
   "source": [
    "import numpy as np\n",
    "import os\n",
    "import cv2\n",
    "from sklearn import preprocessing\n",
    "from sklearn.model_selection import train_test_split\n",
    "from sklearn.linear_model import LogisticRegression\n",
    "from sklearn.metrics import precision_score, \\\n",
    "    recall_score, confusion_matrix, classification_report, \\\n",
    "    accuracy_score, f1_score, log_loss\n",
    "from sklearn.cluster import KMeans\n",
    "from sklearn.metrics import silhouette_score, f1_score\n",
    "from glob import glob"
   ]
  },
  {
   "cell_type": "code",
   "execution_count": 12,
   "metadata": {},
   "outputs": [],
   "source": [
    "nrows = 6\n",
    "ncols = 4\n",
    "pic_index = 0\n",
    "\n",
    "BASE_DATA_FOLDER = \"./data\"\n",
    "TRAIN_DATA_FOLDER = os.path.join(BASE_DATA_FOLDER, \"train\")\n",
    "\n",
    "images = []\n",
    "labels = []\n",
    "\n",
    "for class_folder_name in os.listdir(TRAIN_DATA_FOLDER):\n",
    "    class_folder_path = os.path.join(TRAIN_DATA_FOLDER, class_folder_name)\n",
    "    for image_path in glob(os.path.join(class_folder_path, \"*.jpeg\")):\n",
    "        image = cv2.imread(image_path, cv2.IMREAD_COLOR)\n",
    "        image = cv2.cvtColor(image, cv2.COLOR_BGR2GRAY)\n",
    "        image = cv2.resize(image, (224,224))\n",
    "        image = np.stack((image,)*3, axis=-1)\n",
    "        images.append(image)\n",
    "        labels.append(class_folder_name)\n",
    "    for image_path in glob(os.path.join(class_folder_path, \"*.png\")):\n",
    "        image = cv2.imread(image_path, cv2.IMREAD_COLOR)\n",
    "        image = cv2.cvtColor(image, cv2.COLOR_BGR2GRAY)\n",
    "        image = cv2.resize(image, (224,224))\n",
    "        image = np.stack((image,)*3, axis=-1)    \n",
    "        images.append(image)\n",
    "        labels.append(class_folder_name)\n",
    "    for image_path in glob(os.path.join(class_folder_path, \"*.jpg\")):\n",
    "        image = cv2.imread(image_path, cv2.IMREAD_COLOR)\n",
    "        image = cv2.cvtColor(image, cv2.COLOR_BGR2GRAY)\n",
    "        image = cv2.resize(image, (224,224))\n",
    "        image = np.stack((image,)*3, axis=-1)\n",
    "        images.append(image)\n",
    "        labels.append(class_folder_name)"
   ]
  },
  {
   "cell_type": "code",
   "execution_count": 13,
   "metadata": {},
   "outputs": [],
   "source": [
    "images = np.array(images)\n",
    "labels = np.array(labels)\n",
    "pre = preprocessing.LabelEncoder()\n",
    "pre.fit(labels)\n",
    "labels_numeric = pre.transform(labels)\n",
    "Num_Class = 3\n",
    "\n",
    "def OneHotEncoded(y_train):\n",
    "    y_t=np.zeros((len(y_train),Num_Class), dtype=int)\n",
    "    for i,x in enumerate(y_train):\n",
    "        y_t[i][int(x)-1]=1\n",
    "    return y_t\n",
    "\n",
    "labels = OneHotEncoded(labels_numeric)\n",
    "\n",
    "X_train, X_test= train_test_split(images, test_size=0.2, random_state=42)\n",
    "y_train, y_test= train_test_split(labels, test_size=0.2, random_state=42)\n",
    "X_train = X_train.reshape(57, 224, 224, 3)\n",
    "X_test = X_test.reshape(15, 224, 224, 3)"
   ]
  },
  {
   "cell_type": "markdown",
   "metadata": {
    "id": "jXvpRUAy6Lt1"
   },
   "source": [
    "## the next step is to define the model that will be trained to recognize covid, normal or Viral Pneumonia from these images"
   ]
  },
  {
   "cell_type": "code",
   "execution_count": 14,
   "metadata": {},
   "outputs": [],
   "source": [
    "train_vgg_bf = X_train.reshape(X_train.shape[0],-1)\n",
    "valid_vgg_bf = X_test.reshape(X_test.shape[0],-1)"
   ]
  },
  {
   "cell_type": "code",
   "execution_count": 15,
   "metadata": {},
   "outputs": [
    {
     "name": "stdout",
     "output_type": "stream",
     "text": [
      "Validation VGG LogLoss 2.146596626584638\n",
      "Validation VGG Accuracy 0.8\n"
     ]
    }
   ],
   "source": [
    "compare_loss={}\n",
    "compare_accuracy = {}\n",
    "logreg = LogisticRegression(multi_class='multinomial', solver='lbfgs', random_state=147)\n",
    "logreg.fit(train_vgg_bf, (y_train * range(Num_Class)).sum(axis=1))\n",
    "valid_probs = logreg.predict_proba(valid_vgg_bf)\n",
    "valid_preds = logreg.predict(valid_vgg_bf)\n",
    "compare_loss['Vgg16']=log_loss(y_test, valid_probs)\n",
    "compare_accuracy['Vgg16']=accuracy_score((y_test * range(Num_Class)).sum(axis=1), valid_preds)\n",
    "print('Validation VGG LogLoss {}'.format(compare_loss['Vgg16']))\n",
    "print('Validation VGG Accuracy {}'.format(compare_accuracy['Vgg16']))\n",
    "y_lr_test = (y_test * range(Num_Class)).sum(axis=1)"
   ]
  },
  {
   "cell_type": "code",
   "execution_count": 16,
   "metadata": {},
   "outputs": [
    {
     "name": "stdout",
     "output_type": "stream",
     "text": [
      "Accuracy: 0.8\n",
      "F1 score: 0.7936507936507936\n",
      "Recall: 0.8190476190476191\n",
      "Precision: 0.7857142857142857\n",
      "\n",
      " clasification report:\n",
      "               precision    recall  f1-score   support\n",
      "\n",
      "           0       0.75      0.60      0.67         5\n",
      "           1       0.75      1.00      0.86         3\n",
      "           2       0.86      0.86      0.86         7\n",
      "\n",
      "    accuracy                           0.80        15\n",
      "   macro avg       0.79      0.82      0.79        15\n",
      "weighted avg       0.80      0.80      0.79        15\n",
      "\n",
      "\n",
      " confussion matrix:\n",
      " [[3 1 1]\n",
      " [0 3 0]\n",
      " [1 0 6]]\n"
     ]
    }
   ],
   "source": [
    "print ('Accuracy:', accuracy_score(y_lr_test, valid_preds))\n",
    "print ('F1 score:', f1_score(y_lr_test, valid_preds, average='macro'))\n",
    "print ('Recall:', recall_score(y_lr_test, valid_preds, average='macro'))\n",
    "print ('Precision:', precision_score(y_lr_test, valid_preds, average='macro'))\n",
    "print ('\\n clasification report:\\n', classification_report(y_lr_test,valid_preds))\n",
    "print ('\\n confussion matrix:\\n',confusion_matrix(y_lr_test, valid_preds))\n",
    "\n",
    "X = train_vgg_bf\n",
    "numpy_labels = y_train\n",
    "numpy_all = logreg.predict_proba(X)"
   ]
  },
  {
   "cell_type": "code",
   "execution_count": 17,
   "metadata": {},
   "outputs": [
    {
     "name": "stdout",
     "output_type": "stream",
     "text": [
      "Sillouette Score using K-Means 0.1396838533792259\n"
     ]
    }
   ],
   "source": [
    "clusterer = KMeans(n_clusters=3)\n",
    "preds = clusterer.fit_predict(X)\n",
    "centers = clusterer.cluster_centers_\n",
    "score = silhouette_score(X, preds)\n",
    "print (\"Sillouette Score using K-Means\", score)"
   ]
  },
  {
   "cell_type": "code",
   "execution_count": null,
   "metadata": {},
   "outputs": [],
   "source": []
  }
 ],
 "metadata": {
  "kernelspec": {
   "display_name": "Python 3 (ipykernel)",
   "language": "python",
   "name": "python3"
  },
  "language_info": {
   "codemirror_mode": {
    "name": "ipython",
    "version": 3
   },
   "file_extension": ".py",
   "mimetype": "text/x-python",
   "name": "python",
   "nbconvert_exporter": "python",
   "pygments_lexer": "ipython3",
   "version": "3.7.6"
  }
 },
 "nbformat": 4,
 "nbformat_minor": 4
}