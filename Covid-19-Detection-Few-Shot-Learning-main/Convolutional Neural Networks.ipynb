{
 "cells": [
  {
   "cell_type": "markdown",
   "metadata": {},
   "source": [
    "# COVID-19 Classification using 4-layer Convolutional Neural Networks."
   ]
  },
  {
   "cell_type": "code",
   "execution_count": 1,
   "metadata": {},
   "outputs": [
    {
     "name": "stdout",
     "output_type": "stream",
     "text": [
      "Looking in indexes: https://pypi.tuna.tsinghua.edu.cn/simple/\n",
      "Requirement already satisfied: opencv-python in c:\\users\\李鑫\\appdata\\roaming\\python\\python37\\site-packages (4.6.0.66)\n",
      "Requirement already satisfied: numpy>=1.14.5; python_version >= \"3.7\" in d:\\anaconda\\lib\\site-packages (from opencv-python) (1.21.2)\n"
     ]
    }
   ],
   "source": [
    "! pip install opencv-python"
   ]
  },
  {
   "cell_type": "code",
   "execution_count": 2,
   "metadata": {},
   "outputs": [],
   "source": [
    "import numpy as np # linear algebra\n",
    "import pandas as pd # data processing, CSV file I/O (e.g. pd.read_csv)\n",
    "import os\n",
    "import cv2\n",
    "import numpy as np\n",
    "import shutil\n",
    "from sklearn import preprocessing\n",
    "from keras.preprocessing import image\n",
    "from sklearn.model_selection import train_test_split\n",
    "from keras.applications.vgg16 import VGG16\n",
    "from keras.applications import xception\n",
    "from keras.applications import inception_v3\n",
    "from keras.applications.vgg16 import preprocess_input\n",
    "from sklearn.linear_model import LogisticRegression\n",
    "from sklearn.metrics import log_loss, accuracy_score\n",
    "from sklearn.metrics import precision_score, \\\n",
    "    recall_score, confusion_matrix, classification_report, \\\n",
    "    accuracy_score, f1_score\n",
    "from sklearn.cluster import KMeans\n",
    "from sklearn.metrics import silhouette_score\n",
    "from sklearn.metrics import f1_score\n",
    "%matplotlib inline\n",
    "import matplotlib.image as mpimg\n",
    "import matplotlib.pyplot as plt\n",
    "from glob import glob"
   ]
  },
  {
   "cell_type": "code",
   "execution_count": 3,
   "metadata": {
    "id": "uezm2gZUgajw"
   },
   "outputs": [],
   "source": [
    "base_dir = './data/'\n",
    "\n",
    "train_dir = os.path.join(base_dir, 'train')\n",
    "validation_dir = os.path.join(base_dir, 'test')"
   ]
  },
  {
   "cell_type": "code",
   "execution_count": 4,
   "metadata": {
    "id": "HCO_BTMI6R9w"
   },
   "outputs": [],
   "source": [
    "import tensorflow as tf\n",
    " \n",
    "model = tf.keras.models.Sequential([\n",
    "    tf.keras.layers.Conv2D(16, (3,3), activation='relu', input_shape=(150, 150, 3)),\n",
    "    tf.keras.layers.MaxPooling2D(2,2),\n",
    "    tf.keras.layers.Conv2D(32, (3,3), activation='relu'),\n",
    "    tf.keras.layers.MaxPooling2D(2,2), \n",
    "    tf.keras.layers.Conv2D(64, (3,3), activation='relu'), \n",
    "    tf.keras.layers.MaxPooling2D(2,2),\n",
    "    tf.keras.layers.Flatten(), \n",
    "    tf.keras.layers.Dense(512, activation='relu'), \n",
    "    tf.keras.layers.Dense(3, activation='softmax')  \n",
    "])\n"
   ]
  },
  {
   "cell_type": "code",
   "execution_count": 5,
   "metadata": {
    "id": "0AKNu0586zHF",
    "outputId": "84ad4b5f-6d4a-4dfc-8fd9-0a717a643abf"
   },
   "outputs": [
    {
     "name": "stdout",
     "output_type": "stream",
     "text": [
      "Model: \"sequential\"\n",
      "_________________________________________________________________\n",
      " Layer (type)                Output Shape              Param #   \n",
      "=================================================================\n",
      " conv2d (Conv2D)             (None, 148, 148, 16)      448       \n",
      "                                                                 \n",
      " max_pooling2d (MaxPooling2D  (None, 74, 74, 16)       0         \n",
      " )                                                               \n",
      "                                                                 \n",
      " conv2d_1 (Conv2D)           (None, 72, 72, 32)        4640      \n",
      "                                                                 \n",
      " max_pooling2d_1 (MaxPooling  (None, 36, 36, 32)       0         \n",
      " 2D)                                                             \n",
      "                                                                 \n",
      " conv2d_2 (Conv2D)           (None, 34, 34, 64)        18496     \n",
      "                                                                 \n",
      " max_pooling2d_2 (MaxPooling  (None, 17, 17, 64)       0         \n",
      " 2D)                                                             \n",
      "                                                                 \n",
      " flatten (Flatten)           (None, 18496)             0         \n",
      "                                                                 \n",
      " dense (Dense)               (None, 512)               9470464   \n",
      "                                                                 \n",
      " dense_1 (Dense)             (None, 3)                 1539      \n",
      "                                                                 \n",
      "=================================================================\n",
      "Total params: 9,495,587\n",
      "Trainable params: 9,495,587\n",
      "Non-trainable params: 0\n",
      "_________________________________________________________________\n"
     ]
    }
   ],
   "source": [
    "model.summary()"
   ]
  },
  {
   "cell_type": "code",
   "execution_count": 6,
   "metadata": {
    "id": "FEgt8B7E61SB"
   },
   "outputs": [],
   "source": [
    "model.compile(optimizer='adam', loss= 'categorical_crossentropy', metrics=['accuracy'])"
   ]
  },
  {
   "cell_type": "code",
   "execution_count": 7,
   "metadata": {
    "id": "t0DxfA_g7MAL",
    "outputId": "4293ecd9-2d11-4917-ecdd-167063f05839"
   },
   "outputs": [
    {
     "name": "stdout",
     "output_type": "stream",
     "text": [
      "Found 72 images belonging to 3 classes.\n",
      "Found 36 images belonging to 3 classes.\n"
     ]
    }
   ],
   "source": [
    "from tensorflow.keras.preprocessing.image import ImageDataGenerator\n",
    "\n",
    "# All images will be rescaled by 1./255.\n",
    "train_datagen = ImageDataGenerator( rescale = 1.0/255. )\n",
    "test_datagen  = ImageDataGenerator( rescale = 1.0/255. )\n",
    "\n",
    "# --------------------\n",
    "# Flow training images in batches of 20 using train_datagen generator\n",
    "# --------------------\n",
    "train_generator = train_datagen.flow_from_directory(train_dir,\n",
    "                                                    batch_size=20,\n",
    "                                                    class_mode='categorical',\n",
    "                                                    target_size=(150, 150))     \n",
    "# --------------------\n",
    "# Flow validation images in batches of 20 using test_datagen generator\n",
    "# --------------------\n",
    "validation_generator =  test_datagen.flow_from_directory(validation_dir,\n",
    "                                                         batch_size=20,\n",
    "                                                         class_mode  = 'categorical',\n",
    "                                                         target_size = (150, 150),\n",
    "                                                         shuffle=False)"
   ]
  },
  {
   "cell_type": "code",
   "execution_count": 11,
   "metadata": {
    "id": "VRdUphDd7cIG",
    "outputId": "8f47a779-f134-4238-decd-8a715c7cface"
   },
   "outputs": [
    {
     "name": "stdout",
     "output_type": "stream",
     "text": [
      "Epoch 1/20\n",
      "WARNING:tensorflow:Your input ran out of data; interrupting training. Make sure that your dataset or generator can generate at least `steps_per_epoch * epochs` batches (in this case, 3 batches). You may need to use the repeat() function when building your dataset.\n",
      "1/1 - 1s - loss: 0.9513 - accuracy: 0.4000 - val_loss: 1.0171 - val_accuracy: 0.3889 - 929ms/epoch - 929ms/step\n",
      "Epoch 2/20\n",
      "1/1 - 0s - loss: 0.9645 - accuracy: 0.5000 - 491ms/epoch - 491ms/step\n",
      "Epoch 3/20\n",
      "1/1 - 0s - loss: 0.8929 - accuracy: 0.8000 - 471ms/epoch - 471ms/step\n",
      "Epoch 4/20\n",
      "1/1 - 1s - loss: 0.9341 - accuracy: 0.5500 - 744ms/epoch - 744ms/step\n",
      "Epoch 5/20\n",
      "1/1 - 0s - loss: 0.8009 - accuracy: 0.8000 - 499ms/epoch - 499ms/step\n",
      "Epoch 6/20\n",
      "1/1 - 0s - loss: 0.7248 - accuracy: 0.7000 - 463ms/epoch - 463ms/step\n",
      "Epoch 7/20\n",
      "1/1 - 1s - loss: 0.7217 - accuracy: 0.7000 - 511ms/epoch - 511ms/step\n",
      "Epoch 8/20\n",
      "1/1 - 0s - loss: 0.6585 - accuracy: 0.8333 - 433ms/epoch - 433ms/step\n",
      "Epoch 9/20\n",
      "1/1 - 0s - loss: 0.6317 - accuracy: 0.8500 - 471ms/epoch - 471ms/step\n",
      "Epoch 10/20\n",
      "1/1 - 0s - loss: 0.5411 - accuracy: 0.8500 - 422ms/epoch - 422ms/step\n",
      "Epoch 11/20\n",
      "1/1 - 1s - loss: 0.5404 - accuracy: 0.8500 - 523ms/epoch - 523ms/step\n",
      "Epoch 12/20\n",
      "1/1 - 0s - loss: 0.3787 - accuracy: 0.9167 - 255ms/epoch - 255ms/step\n",
      "Epoch 13/20\n",
      "1/1 - 1s - loss: 0.5469 - accuracy: 0.7500 - 506ms/epoch - 506ms/step\n",
      "Epoch 14/20\n",
      "1/1 - 0s - loss: 0.3164 - accuracy: 0.8333 - 221ms/epoch - 221ms/step\n",
      "Epoch 15/20\n",
      "1/1 - 0s - loss: 0.2338 - accuracy: 1.0000 - 498ms/epoch - 498ms/step\n",
      "Epoch 16/20\n",
      "1/1 - 0s - loss: 0.2334 - accuracy: 0.9000 - 455ms/epoch - 455ms/step\n",
      "Epoch 17/20\n",
      "1/1 - 0s - loss: 0.3476 - accuracy: 0.8333 - 296ms/epoch - 296ms/step\n",
      "Epoch 18/20\n",
      "1/1 - 1s - loss: 0.1753 - accuracy: 0.9500 - 558ms/epoch - 558ms/step\n",
      "Epoch 19/20\n",
      "1/1 - 0s - loss: 0.2124 - accuracy: 0.9500 - 482ms/epoch - 482ms/step\n",
      "Epoch 20/20\n",
      "1/1 - 1s - loss: 0.0446 - accuracy: 1.0000 - 554ms/epoch - 554ms/step\n"
     ]
    }
   ],
   "source": [
    "history = model.fit(train_generator,\n",
    "                              validation_data=validation_generator,\n",
    "                              steps_per_epoch=1,\n",
    "                              epochs=20,\n",
    "                              validation_steps = 3,\n",
    "                              verbose=2)"
   ]
  },
  {
   "cell_type": "code",
   "execution_count": 12,
   "metadata": {},
   "outputs": [
    {
     "name": "stdout",
     "output_type": "stream",
     "text": [
      "2/2 [==============================] - 0s 86ms/step\n",
      "              precision    recall  f1-score   support\n",
      "\n",
      "           0       1.00      0.83      0.91        12\n",
      "           1       0.67      1.00      0.80        12\n",
      "           2       0.75      0.50      0.60        12\n",
      "\n",
      "    accuracy                           0.78        36\n",
      "   macro avg       0.81      0.78      0.77        36\n",
      "weighted avg       0.81      0.78      0.77        36\n",
      "\n"
     ]
    }
   ],
   "source": [
    "from sklearn.metrics import classification_report\n",
    "from sklearn import preprocessing\n",
    "\n",
    "y_pred = model.predict(validation_generator, verbose=1)\n",
    "y_pred_bool = np.argmax(y_pred, axis=1)\n",
    "print(classification_report(validation_generator.classes, y_pred_bool))"
   ]
  },
  {
   "cell_type": "code",
   "execution_count": null,
   "metadata": {},
   "outputs": [],
   "source": []
  }
 ],
 "metadata": {
  "kernelspec": {
   "display_name": "Python 3 (ipykernel)",
   "language": "python",
   "name": "python3"
  },
  "language_info": {
   "codemirror_mode": {
    "name": "ipython",
    "version": 3
   },
   "file_extension": ".py",
   "mimetype": "text/x-python",
   "name": "python",
   "nbconvert_exporter": "python",
   "pygments_lexer": "ipython3",
   "version": "3.7.6"
  }
 },
 "nbformat": 4,
 "nbformat_minor": 4
}
